{
 "cells": [
  {
   "cell_type": "code",
   "execution_count": 1,
   "id": "50a13d30",
   "metadata": {},
   "outputs": [
    {
     "name": "stdout",
     "output_type": "stream",
     "text": [
      "Open 9-5 daily\n"
     ]
    }
   ],
   "source": [
    "import zoo\n",
    "\n",
    "zoo.hours()"
   ]
  },
  {
   "cell_type": "code",
   "execution_count": 2,
   "id": "0158aa25",
   "metadata": {},
   "outputs": [
    {
     "name": "stdout",
     "output_type": "stream",
     "text": [
      "Open 9-5 daily\n"
     ]
    }
   ],
   "source": [
    "import zoo as menagerie\n",
    "\n",
    "menagerie.hours()"
   ]
  },
  {
   "cell_type": "code",
   "execution_count": 3,
   "id": "a3f1a891",
   "metadata": {},
   "outputs": [
    {
     "name": "stdout",
     "output_type": "stream",
     "text": [
      "['Perdido Street Station', 'Perdido Street Station', 'Perdido Street Station', 'Small Gods', 'Small Gods', 'Small Gods', 'The Spellman Files', 'The Spellman Files', 'The Spellman Files', 'The Weirdstone of Brisingamen', 'The Weirdstone of Brisingamen', 'The Weirdstone of Brisingamen', 'Thud!', 'Thud!', 'Thud!']\n"
     ]
    }
   ],
   "source": [
    "from sqlalchemy import create_engine, select, MetaData, Table\n",
    "\n",
    "# Create an engine\n",
    "engine = create_engine('sqlite:///books.db')\n",
    "\n",
    "# Reflect the existing database into a new Python object\n",
    "metadata = MetaData()\n",
    "metadata.reflect(bind=engine)\n",
    "\n",
    "# Access the 'books' table\n",
    "books_table = metadata.tables['books']\n",
    "\n",
    "# Establish a connection\n",
    "with engine.connect() as connection:\n",
    "    # Select and print the title column from the book table in alphabetical order\n",
    "    stmt = select([books_table.c.title]).order_by(books_table.c.title)\n",
    "    results = connection.execute(stmt)\n",
    "    print([row[0] for row in results])\n",
    "\n",
    "# Close the connection\n",
    "engine.dispose()"
   ]
  }
 ],
 "metadata": {
  "kernelspec": {
   "display_name": "Python 3 (ipykernel)",
   "language": "python",
   "name": "python3"
  },
  "language_info": {
   "codemirror_mode": {
    "name": "ipython",
    "version": 3
   },
   "file_extension": ".py",
   "mimetype": "text/x-python",
   "name": "python",
   "nbconvert_exporter": "python",
   "pygments_lexer": "ipython3",
   "version": "3.11.5"
  }
 },
 "nbformat": 4,
 "nbformat_minor": 5
}
