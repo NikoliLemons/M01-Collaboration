{
 "cells": [
  {
   "cell_type": "code",
   "execution_count": 2,
   "id": "54042293",
   "metadata": {},
   "outputs": [],
   "source": [
    "import datetime\n",
    "def write_current_date(filename):\n",
    "    current_date = datetime.datetime.now().strftime(\"%Y-%m-%d\")\n",
    "    with open(filename, 'w') as file:\n",
    "        file.write(current_date)"
   ]
  },
  {
   "cell_type": "code",
   "execution_count": 3,
   "id": "d5b806a4",
   "metadata": {},
   "outputs": [],
   "source": [
    "def read_today_string(filename):\n",
    "    with open(filename, 'r') as file:\n",
    "        today_string = file.read()\n",
    "    return today_string"
   ]
  },
  {
   "cell_type": "code",
   "execution_count": 4,
   "id": "6c7fcd2a",
   "metadata": {},
   "outputs": [
    {
     "name": "stdout",
     "output_type": "stream",
     "text": [
      "Today's Date (parsed): 2024-02-20\n"
     ]
    }
   ],
   "source": [
    "def parse_date_from_string(date_string):\n",
    "    parsed_date = datetime.datetime.strptime(date_string, \"%Y-%m-%d\").date()\n",
    "    return parsed_date\n",
    "filename = \"today.txt\"\n",
    "write_current_date(filename)\n",
    "today_string = read_today_string(filename)\n",
    "parsed_date = parse_date_from_string(today_string)\n",
    "\n",
    "print(\"Today's Date (parsed):\", parsed_date)"
   ]
  },
  {
   "cell_type": "code",
   "execution_count": 6,
   "id": "f44e9d62",
   "metadata": {},
   "outputs": [
    {
     "name": "stdout",
     "output_type": "stream",
     "text": [
      "Today's date and time is 2024-02-20 09:15:35.876074\n",
      "Today's date and time is 2024-02-20 09:15:36.792651\n",
      "Today's date and time is 2024-02-20 09:15:37.655014\n"
     ]
    }
   ],
   "source": [
    "import multiprocessing\n",
    "\n",
    "from datetime import datetime\n",
    "\n",
    "import time\n",
    "\n",
    "import random\n",
    "\n",
    "def ptime():\n",
    "\n",
    "   cur = datetime.now()\n",
    "\n",
    "   print(\"Today's date and time is {}\".format(cur))\n",
    "\n",
    "   time.sleep(random.random())\n",
    "\n",
    "if __name__ == '__main__':\n",
    "\n",
    "   proc1 = multiprocessing.Process(target=ptime())\n",
    "\n",
    "   proc2 = multiprocessing.Process(target=ptime())\n",
    "\n",
    "   proc3 = multiprocessing.Process(target=ptime())\n",
    "\n",
    "   proc1.start()\n",
    "\n",
    "   proc2.start()\n",
    "\n",
    "   proc3.start()\n",
    "\n",
    "   proc1.join()\n",
    "\n",
    "   proc2.join()\n",
    "\n",
    "   proc3.join()"
   ]
  }
 ],
 "metadata": {
  "kernelspec": {
   "display_name": "Python 3 (ipykernel)",
   "language": "python",
   "name": "python3"
  },
  "language_info": {
   "codemirror_mode": {
    "name": "ipython",
    "version": 3
   },
   "file_extension": ".py",
   "mimetype": "text/x-python",
   "name": "python",
   "nbconvert_exporter": "python",
   "pygments_lexer": "ipython3",
   "version": "3.11.5"
  }
 },
 "nbformat": 4,
 "nbformat_minor": 5
}
